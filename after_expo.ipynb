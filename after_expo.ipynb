{
 "cells": [
  {
   "cell_type": "markdown",
   "metadata": {},
   "source": [
    "# SIMULATIONS\n",
    "## Import and helper functions"
   ]
  },
  {
   "cell_type": "code",
   "execution_count": 1,
   "metadata": {},
   "outputs": [],
   "source": [
    "import workload_simulation\n",
    "import forgetting_curve as fc\n",
    "import matplotlib\n",
    "import importlib\n",
    "import numpy\n",
    "from operator import itemgetter"
   ]
  },
  {
   "cell_type": "code",
   "execution_count": 2,
   "metadata": {},
   "outputs": [],
   "source": [
    "importlib.reload(workload_simulation)\n",
    "import workload_simulation as ws"
   ]
  },
  {
   "cell_type": "code",
   "execution_count": 3,
   "metadata": {},
   "outputs": [],
   "source": [
    "import matplotlib.pyplot as plt\n",
    "import numpy as np\n",
    "import pickle\n",
    "SimulationResult = ws.SimulationResult\n",
    "%matplotlib inline"
   ]
  },
  {
   "cell_type": "code",
   "execution_count": 4,
   "metadata": {},
   "outputs": [],
   "source": [
    "def adapt_simulations_to_newcardcost(sims, cost_new_card):\n",
    "    new_sims = []\n",
    "    for sim in sims:\n",
    "        pbt = sim.pbt\n",
    "        factor = sim.factor\n",
    "        workload = sim.w_load + cost_new_card\n",
    "        efficiency = sim.r_rate / workload\n",
    "        new_sims.append(SimulationResult(pbt, sim.r_rate, workload, efficiency, factor))\n",
    "    return new_sims"
   ]
  },
  {
   "cell_type": "code",
   "execution_count": 5,
   "metadata": {},
   "outputs": [],
   "source": [
    "def get_simdata(fp, cardcost=0):\n",
    "    sims = ws.get_simdata(fp)\n",
    "    return adapt_simulations_to_newcardcost(sims, cardcost)"
   ]
  },
  {
   "cell_type": "code",
   "execution_count": 6,
   "metadata": {},
   "outputs": [],
   "source": [
    "def get_closest_factor(new_factor, total_output):\n",
    "    for r in total_output:\n",
    "        if r.factor >= new_factor:\n",
    "            return r"
   ]
  },
  {
   "cell_type": "code",
   "execution_count": 7,
   "metadata": {},
   "outputs": [],
   "source": [
    "def printsim(sim, name, forcomparison=False):\n",
    "    name = name.center(10)\n",
    "    print(f\"{name} | {sim.factor:0.2f} | {sim.pbt:0.2f} | {sim.r_rate:0.2f} | {sim.w_load:0.2f} | {sim.efficiency:0.2f}\")\n",
    "\n",
    "def print_header():\n",
    "    print(\" \"*10+\" |factor| pbt  | ret  | load  | effi\")\n",
    "\n",
    "def analysis(total_output, new_factor=None):\n",
    "    factors = [output.factor for output in total_output]\n",
    "    r_rates = [output.r_rate for output in total_output]\n",
    "    w_loads = [output.w_load for output in total_output]\n",
    "    effs = [output.efficiency for output in total_output]\n",
    "    \n",
    "\n",
    "    \n",
    "    plt.scatter(factors, r_rates,  color='blue')\n",
    "    #t = np.polyfit(factors,r_rates,1)\n",
    "    #new_rates = [t[0]*f + t[1] for f in factors]\n",
    "    #plt.plot(factors,new_rates, color=\"red\")\n",
    "    plt.xlabel(\"Factors\")\n",
    "    plt.ylabel(\"Retention rate\")\n",
    "    if new_factor is not None:\n",
    "        plt.plot([new_factor, new_factor], [min(r_rates), max(r_rates)], color=\"green\", lw=1)\n",
    "    plt.plot([2.5, 2.5], [min(r_rates), max(r_rates)], 'k-', lw=1)\n",
    "    plt.show()\n",
    "    plt.scatter(factors, w_loads,  color='red')\n",
    "    plt.xlabel(\"Factors\")\n",
    "    plt.ylabel(\"workload\")\n",
    "    if new_factor is not None:\n",
    "        plt.plot([new_factor, new_factor], [min(w_loads), max(w_loads)], color=\"green\", lw=1)   \n",
    "    plt.plot([2.5, 2.5], [min(w_loads), max(w_loads)], 'k-', lw=1)\n",
    "    plt.show()\n",
    "    plt.scatter(factors, effs,  color='green')\n",
    "    if new_factor is not None:\n",
    "        plt.plot([new_factor, new_factor], [min(effs), max(effs)], color=\"green\", lw=1)  \n",
    "    plt.plot([2.5, 2.5], [min(effs), max(effs)], 'k-', lw=1)\n",
    "    t = np.polyfit(factors,effs, 3)\n",
    "    #new_effs = [t[0]*f*f*f + t[1]*f*f + t[2]*f + t[3] for f in factors]\n",
    "    #plt.plot(factors,new_effs, color=\"blue\")\n",
    "    plt.xlabel(\"Factors\")\n",
    "    plt.ylabel(\"efficiency\")\n",
    "    plt.show()\n",
    "    \n",
    "    \n",
    "    # PRINT INSIDE TABLE\n",
    "\n",
    "    best_productivity = max(total_output, key=lambda x:x.efficiency)\n",
    "    least_work = min(total_output, key=lambda x:x.w_load)\n",
    "    print_header()\n",
    "    if new_factor is not None:\n",
    "        sm2 = get_SM2_Point(total_output)\n",
    "        printsim(sm2, name=\"SM2\")\n",
    "        print(\"---\")\n",
    "        closest_new_factor = get_closest_factor(new_factor, total_output)\n",
    "        print(\"User Defined Factor\")\n",
    "        printsim(closest_new_factor, \"Absolute\")\n",
    "        printsim(compare(closest_new_factor, sm2), \"VS SM2\")\n",
    "        print(\"---\")\n",
    "    print(\"Max Eff\")\n",
    "    printsim(best_productivity, \"Absolute\")\n",
    "    printsim(compare(best_productivity, sm2), \"VS SM2\")\n",
    "    print(\"---\")\n",
    "    print(\"Least Work\")\n",
    "    printsim(least_work, \"Absolute\")\n",
    "    printsim(compare(least_work, sm2), \"VS SM2\")\n",
    "#analysis(total_output)"
   ]
  },
  {
   "cell_type": "code",
   "execution_count": 8,
   "metadata": {},
   "outputs": [],
   "source": [
    "def get_SM2_Point(results):\n",
    "    for r in results:\n",
    "        if r.factor == 2.5:\n",
    "            return r\n",
    "\n",
    "def compare(source, target):\n",
    "    return SimulationResult(source.pbt - target.pbt, \n",
    "                            source.r_rate - target.r_rate, \n",
    "                            (source.w_load)/(target.w_load), \n",
    "                            source.efficiency/target.efficiency, \n",
    "                            source.factor/target.factor)\n",
    "\n",
    "def compare_best_to_sm2(results):\n",
    "    o = get_best_prod(results)\n",
    "    s = get_SM2_Point(results)\n",
    "    return compare (o, s)\n",
    "\n",
    "def get_best_prod(results):\n",
    "    return max(results, key=lambda x: x.efficiency)"
   ]
  },
  {
   "cell_type": "code",
   "execution_count": 9,
   "metadata": {},
   "outputs": [],
   "source": [
    "def plot_comparison(difs, c_wlds, c_rets, c_pbts):\n",
    "    fig, ax1 = plt.subplots()\n",
    "    ax1.scatter(difs, c_wlds, color=\"red\")\n",
    "    ax1.set_xlabel('Initial Success Rate')\n",
    "    ax1.set_ylabel('Workload Fraction', color='red')\n",
    "    ax1.tick_params('y', colors='red')\n",
    "\n",
    "    ax2 = ax1.twinx()\n",
    "    ax2.scatter(difs, c_rets, color=\"blue\")\n",
    "    ax2.set_ylabel('Retention Rate Loss', color='blue')\n",
    "    ax2.tick_params('y', colors='blue')\n",
    "\n",
    "    fig.tight_layout()\n",
    "    plt.show()\n",
    "    \n",
    "    # copy-pasta\n",
    "    fig, ax1 = plt.subplots()\n",
    "    ax1.scatter(difs, c_wlds, color=\"red\")\n",
    "    ax1.set_xlabel('Initial Success Rate')\n",
    "    ax1.set_ylabel('Workload Fraction', color='red')\n",
    "    ax1.tick_params('y', colors='red')\n",
    "\n",
    "    ax2 = ax1.twinx()\n",
    "    ax2.scatter(difs, c_pbts, color=\"blue\")\n",
    "    ax2.set_ylabel('Success Rate Loss', color='blue')\n",
    "    ax2.tick_params('y', colors='blue')\n",
    "\n",
    "    fig.tight_layout()\n",
    "    plt.show()"
   ]
  },
  {
   "cell_type": "code",
   "execution_count": 10,
   "metadata": {},
   "outputs": [],
   "source": [
    "def display_overall(results, sm2s, diffs, display_SM2=True):\n",
    "    #results are post-optimized selection for a range of factor\n",
    "    factors = [output.factor for output in results]\n",
    "    r_rates = [output.r_rate for output in results]\n",
    "    w_loads = [output.w_load for output in results]\n",
    "    effs = [output.efficiency for output in results]\n",
    "    pbt = [output.pbt for output in results]\n",
    "    c_wlds=[]\n",
    "    c_rets=[]\n",
    "    c_effs = []\n",
    "    c_pbts = []\n",
    "    for sim, sm2 in zip(results, sm2s):\n",
    "        comparesim = compare (sim, sm2)\n",
    "        c_wlds.append(comparesim.w_load)\n",
    "        c_rets.append(comparesim.r_rate)\n",
    "        c_effs.append(comparesim.efficiency)\n",
    "        c_pbts.append(comparesim.pbt)\n",
    "    \n",
    "    plt.scatter(pbt, factors, color=\"blue\")\n",
    "    #t = np.polyfit(np.asarray(pbt, dtype=float),np.asarray(factors, dtype=float),2)\n",
    "    #new_factors = [t[0]*p*p + t[1]*p + t[2] for p in pbt]\n",
    "    #plt.plot(pbt,new_factors, color=\"red\")\n",
    "    if display_SM2:\n",
    "        plt.plot([min(pbt), max(pbt)], [2.5, 2.5], color=\"black\", lw=1)\n",
    "    plt.ylabel(\"Optimal Factors\")\n",
    "    plt.xlabel('Initial Success Rate')\n",
    "    plt.show()\n",
    "    \n",
    "    plt.scatter(diffs, effs, color=\"green\")\n",
    "    plt.ylabel(\"Efficiency Gain\")\n",
    "    plt.xlabel('Initial Success Rate')\n",
    "    plt.show()\n",
    "\n",
    "    fig, ax1 = plt.subplots()\n",
    "    ax1.scatter(diffs, w_loads, color=\"red\")\n",
    "    ax1.set_xlabel('Initial Success Rate')\n",
    "    ax1.set_ylabel('Workload After Opti', color='red')\n",
    "    ax1.tick_params('y', colors='red')\n",
    "\n",
    "    ax2 = ax1.twinx()\n",
    "    ax2.scatter(diffs, r_rates, color=\"blue\")\n",
    "    ax2.set_ylabel('Retention Rate After Opti', color='blue')\n",
    "    ax2.tick_params('y', colors='blue')\n",
    "\n",
    "    fig.tight_layout()\n",
    "    plt.show()\n",
    "    plot_comparison(diffs, c_wlds, c_rets, c_pbts)"
   ]
  },
  {
   "cell_type": "code",
   "execution_count": 11,
   "metadata": {},
   "outputs": [],
   "source": [
    "from ipywidgets import interact, interactive, fixed, interact_manual\n",
    "import ipywidgets as widgets\n",
    "import os"
   ]
  },
  {
   "cell_type": "code",
   "execution_count": 12,
   "metadata": {},
   "outputs": [],
   "source": [
    "length_to_path = {\"1year\": \"simunight\", \"10years\": \"simunight10years\", \"30years\": \"simunight30years\"}\n",
    "def analyse(success_rate, cost_card, new_factor, length_simulation):\n",
    "    path = length_to_path[length_simulation]\n",
    "    try:\n",
    "        fpath = f\"./{path}/{success_rate}.pkl\"\n",
    "        sims = get_simdata(fpath, cost_card)\n",
    "    except:\n",
    "        fpath = f\"./{path}/{success_rate}.0.pkl\"\n",
    "        sims = get_simdata(fpath, cost_card)\n",
    "        #TODO : code get_sim_data_from_settings\n",
    "    print(\"IM :\"+ str(new_factor/2.5))\n",
    "    return analysis(sims, new_factor)"
   ]
  },
  {
   "cell_type": "code",
   "execution_count": 13,
   "metadata": {},
   "outputs": [],
   "source": [
    "def range_analysis(cost_card, length_simulation):\n",
    "    path = length_to_path[length_simulation]\n",
    "    bests = []\n",
    "    sm2s= []\n",
    "    diffs = []\n",
    "    for file in os.listdir(f\"./{path}/\"):\n",
    "        sims = get_simdata(f\"./{path}/{file}\", cost_card)\n",
    "        diffs.append(float(file.replace(\".pkl\",\"\")))\n",
    "        bests.append(max(sims, key=lambda x:x.efficiency))\n",
    "        sm2s.append(get_SM2_Point(sims))\n",
    "    display_overall(bests, sm2s, diffs)\n",
    "        \n",
    "    \n",
    "    #display_overall(results)"
   ]
  },
  {
   "cell_type": "markdown",
   "metadata": {},
   "source": [
    "## Analyse results of past simulations\n",
    "### Range analysis\n",
    "\n",
    "For a broad range of initial success rate, find the factor that maximises efficiency and display the consequences on workload, retention and efficiency. \n",
    "\n",
    "The cost of creating new card (how many reviews could have been done instead) and the average length of the simulations are passed as extra hyperparameters.\n",
    "\n",
    "Black line represents SM2 point (with factor == 2.5)"
   ]
  },
  {
   "cell_type": "code",
   "execution_count": 14,
   "metadata": {},
   "outputs": [
    {
     "data": {
      "application/vnd.jupyter.widget-view+json": {
       "model_id": "175c9a1ad924410b8e9ff9f38aa08848",
       "version_major": 2,
       "version_minor": 0
      },
      "text/plain": [
       "interactive(children=(IntSlider(value=5, description='cost_card', max=15), Dropdown(description='length_simula…"
      ]
     },
     "metadata": {},
     "output_type": "display_data"
    }
   ],
   "source": [
    "interact(range_analysis,\n",
    "         cost_card=widgets.IntSlider(min=0,max=15,step=1,value=5),\n",
    "         length_simulation = widgets.Dropdown(options=[\"1year\", \"10years\", \"30years\"],value='1year',description='length_simulation:')\n",
    "        );"
   ]
  },
  {
   "cell_type": "markdown",
   "metadata": {},
   "source": [
    "## Analyse result of simulation with specific succes rate"
   ]
  },
  {
   "cell_type": "raw",
   "metadata": {},
   "source": [
    "TODO : \n",
    "- drop the new factor line (add a section where this could be chosen)\n",
    "- show comparison results in a readable HTML table"
   ]
  },
  {
   "cell_type": "code",
   "execution_count": 15,
   "metadata": {},
   "outputs": [
    {
     "data": {
      "application/vnd.jupyter.widget-view+json": {
       "model_id": "988c6e9449d04b03988c7257ca23a7af",
       "version_major": 2,
       "version_minor": 0
      },
      "text/plain": [
       "interactive(children=(IntSlider(value=90, description='success_rate', max=97, min=70), IntSlider(value=5, desc…"
      ]
     },
     "metadata": {},
     "output_type": "display_data"
    }
   ],
   "source": [
    "interact(analyse, success_rate=widgets.IntSlider(min=70,max=97,step=1,value=90), \n",
    "         cost_card=widgets.IntSlider(min=0,max=15,step=1,value=5),\n",
    "         new_factor=widgets.FloatSlider(min=2,max=20,step=0.1,value=4),\n",
    "         length_simulation = widgets.Dropdown(options=[\"1year\", \"10years\", \"30years\"],value='1year',description='length_simulation:')\n",
    "        );"
   ]
  },
  {
   "cell_type": "markdown",
   "metadata": {},
   "source": [
    "## TRASH"
   ]
  },
  {
   "cell_type": "raw",
   "metadata": {},
   "source": [
    "## Run an analysis for specific options (need rework)\n",
    "\n",
    "nsims = 4000\n",
    "dif = 0.9\n",
    "ndays = 365\n",
    "onfail = \"reset\"\n",
    "\n",
    "list_of_factors = [i / 120 for i in range(3 * 60, 10 * 300) if (i % 30 == 0) or (i % 40 == 0) or (i % 12 == 0)]\n",
    "cost_new_card = 5\n",
    "\n",
    "vals_to_print = []\n",
    "total_output = []\n",
    "# trick to get this kind of factor 1.0, 1.1, 1.2, 1.25, 1.3, 1.3333333333333333\n",
    "# Why ? These factors produce sensible enough different simulations because intervals are integers \n",
    "# Intervals get rounded if they become float, so for the sake of the simulation, let's pick factors that\n",
    "# would result in neat intervals\n",
    "\n",
    "# How ? : take floats that would be close to integers when multiplied by common integers\n",
    "focus_output = []\n",
    "focus_output_too_high = []\n",
    "focus_output_too_low = []\n",
    "for factor in list_of_factors:\n",
    "    pbt = fc.get_pb_success_from_interval_modifier(factor / 2.5, dif)\n",
    "    l = ws.sim(pbt, nsims=nsims, onfail=onfail, ndays=ndays\n",
    "            difficulty=dif, factor=factor)\n",
    "    quotient = l[0] / l[1]\n",
    "    row = ws.SimulationResult(pbt, l[0], l[1], quotient, factor)\n",
    "    total_output.append(row)\n",
    "    \n",
    "## ANALYSIS\n",
    "total_output = adapt_simulations_to_newcardcost(total_output, cost_new_card)\n",
    "analysis(total_output)"
   ]
  },
  {
   "cell_type": "markdown",
   "metadata": {},
   "source": [
    "Retention rate point loss is distributed between -3pt and -6pts whereas workload diminish fast with Initial Success rate.\n",
    "\n",
    "Two practical implications :\n",
    "1. Whatever your initial success rate, if you use the suggested IM, the retention loss is not large.\n",
    "2. If you have a large Initial Success Rate, you have more interests to use optimized IM's."
   ]
  },
  {
   "cell_type": "markdown",
   "metadata": {},
   "source": [
    "## Partial reset mode (failed cards are partially reset), need rework))"
   ]
  },
  {
   "cell_type": "markdown",
   "metadata": {},
   "source": [
    "## diff 90%"
   ]
  },
  {
   "cell_type": "code",
   "execution_count": 16,
   "metadata": {},
   "outputs": [
    {
     "data": {
      "image/png": "[encoded data removed]",
      "text/plain": [
       "<Figure size 432x288 with 1 Axes>"
      ]
     },
     "metadata": {
      "needs_background": "light"
     },
     "output_type": "display_data"
    },
    {
     "data": {
      "image/png": "[encoded data removed]",
      "text/plain": [
       "<Figure size 432x288 with 1 Axes>"
      ]
     },
     "metadata": {
      "needs_background": "light"
     },
     "output_type": "display_data"
    },
    {
     "data": {
      "image/png": "[encoded data removed]",
      "text/plain": [
       "<Figure size 432x288 with 1 Axes>"
      ]
     },
     "metadata": {
      "needs_background": "light"
     },
     "output_type": "display_data"
    },
    {
     "name": "stdout",
     "output_type": "stream",
     "text": [
      "           |factor| pbt  | ret  | load  | effi\n",
      "Max Eff\n",
      " Absolute  | 21.00 | 0.41 | 1.34 | 1.06 | 1.26\n"
     ]
    },
    {
     "ename": "UnboundLocalError",
     "evalue": "local variable 'sm2' referenced before assignment",
     "output_type": "error",
     "traceback": [
      "\u001b[0;31m---------------------------------------------------------------------------\u001b[0m",
      "\u001b[0;31mUnboundLocalError\u001b[0m                         Traceback (most recent call last)",
      "\u001b[0;32m<ipython-input-16-df20d169dae9>\u001b[0m in \u001b[0;36m<module>\u001b[0;34m\u001b[0m\n\u001b[1;32m     12\u001b[0m     \u001b[0mrow\u001b[0m \u001b[0;34m=\u001b[0m \u001b[0mws\u001b[0m\u001b[0;34m.\u001b[0m\u001b[0mSimulationResult\u001b[0m\u001b[0;34m(\u001b[0m\u001b[0mpbt\u001b[0m\u001b[0;34m,\u001b[0m \u001b[0ml\u001b[0m\u001b[0;34m[\u001b[0m\u001b[0;36m0\u001b[0m\u001b[0;34m]\u001b[0m\u001b[0;34m,\u001b[0m \u001b[0ml\u001b[0m\u001b[0;34m[\u001b[0m\u001b[0;36m1\u001b[0m\u001b[0;34m]\u001b[0m\u001b[0;34m,\u001b[0m \u001b[0mquotient\u001b[0m\u001b[0;34m,\u001b[0m \u001b[0mfactor\u001b[0m\u001b[0;34m)\u001b[0m\u001b[0;34m\u001b[0m\u001b[0;34m\u001b[0m\u001b[0m\n\u001b[1;32m     13\u001b[0m     \u001b[0mtotal_output\u001b[0m\u001b[0;34m.\u001b[0m\u001b[0mappend\u001b[0m\u001b[0;34m(\u001b[0m\u001b[0mrow\u001b[0m\u001b[0;34m)\u001b[0m\u001b[0;34m\u001b[0m\u001b[0;34m\u001b[0m\u001b[0m\n\u001b[0;32m---> 14\u001b[0;31m \u001b[0manalysis\u001b[0m\u001b[0;34m(\u001b[0m\u001b[0mtotal_output\u001b[0m\u001b[0;34m)\u001b[0m\u001b[0;34m\u001b[0m\u001b[0;34m\u001b[0m\u001b[0m\n\u001b[0m\u001b[1;32m     15\u001b[0m \u001b[0mcompare_best_to_sm2\u001b[0m\u001b[0;34m(\u001b[0m\u001b[0mtotal_output\u001b[0m\u001b[0;34m)\u001b[0m\u001b[0;34m\u001b[0m\u001b[0;34m\u001b[0m\u001b[0m\n",
      "\u001b[0;32m<ipython-input-7-fd08ff823e83>\u001b[0m in \u001b[0;36manalysis\u001b[0;34m(total_output, new_factor)\u001b[0m\n\u001b[1;32m     59\u001b[0m     \u001b[0mprint\u001b[0m\u001b[0;34m(\u001b[0m\u001b[0;34m\"Max Eff\"\u001b[0m\u001b[0;34m)\u001b[0m\u001b[0;34m\u001b[0m\u001b[0;34m\u001b[0m\u001b[0m\n\u001b[1;32m     60\u001b[0m     \u001b[0mprintsim\u001b[0m\u001b[0;34m(\u001b[0m\u001b[0mbest_productivity\u001b[0m\u001b[0;34m,\u001b[0m \u001b[0;34m\"Absolute\"\u001b[0m\u001b[0;34m)\u001b[0m\u001b[0;34m\u001b[0m\u001b[0;34m\u001b[0m\u001b[0m\n\u001b[0;32m---> 61\u001b[0;31m     \u001b[0mprintsim\u001b[0m\u001b[0;34m(\u001b[0m\u001b[0mcompare\u001b[0m\u001b[0;34m(\u001b[0m\u001b[0mbest_productivity\u001b[0m\u001b[0;34m,\u001b[0m \u001b[0msm2\u001b[0m\u001b[0;34m)\u001b[0m\u001b[0;34m,\u001b[0m \u001b[0;34m\"VS SM2\"\u001b[0m\u001b[0;34m)\u001b[0m\u001b[0;34m\u001b[0m\u001b[0;34m\u001b[0m\u001b[0m\n\u001b[0m\u001b[1;32m     62\u001b[0m     \u001b[0mprint\u001b[0m\u001b[0;34m(\u001b[0m\u001b[0;34m\"---\"\u001b[0m\u001b[0;34m)\u001b[0m\u001b[0;34m\u001b[0m\u001b[0;34m\u001b[0m\u001b[0m\n\u001b[1;32m     63\u001b[0m     \u001b[0mprint\u001b[0m\u001b[0;34m(\u001b[0m\u001b[0;34m\"Least Work\"\u001b[0m\u001b[0;34m)\u001b[0m\u001b[0;34m\u001b[0m\u001b[0;34m\u001b[0m\u001b[0m\n",
      "\u001b[0;31mUnboundLocalError\u001b[0m: local variable 'sm2' referenced before assignment"
     ]
    }
   ],
   "source": [
    "list_of_factors = [i / 120 for i in range(3 * 60, 10 * 300) if (i % 30 == 0) or (i % 40 == 0) or (i % 12 == 0)]\n",
    "focus_output = []\n",
    "focus_output_too_high = []\n",
    "focus_output_too_low = []\n",
    "dif = 0.90\n",
    "total_output = []\n",
    "for factor in list_of_factors:\n",
    "    pbt = fc.get_pb_success_from_interval_modifier(factor / 2.5, dif)\n",
    "    l = ws.sim(pbt, nsims=100, onfail=\"stable\", ndays=1,\n",
    "            difficulty=dif, factor=factor)\n",
    "    quotient = l[0] / l[1]\n",
    "    row = ws.SimulationResult(pbt, l[0], l[1], quotient, factor)\n",
    "    total_output.append(row)\n",
    "analysis(total_output)\n",
    "compare_best_to_sm2(total_output)"
   ]
  },
  {
   "cell_type": "markdown",
   "metadata": {},
   "source": [
    "##  70% success rate"
   ]
  },
  {
   "cell_type": "code",
   "execution_count": null,
   "metadata": {},
   "outputs": [],
   "source": [
    "list_of_factors = [i / 120 for i in range(3 * 60, 10 * 300) if (i % 30 == 0) or (i % 40 == 0) or (i % 12 == 0)]\n",
    "focus_output = []\n",
    "focus_output_too_high = []\n",
    "focus_output_too_low = []\n",
    "dif = 0.70\n",
    "total_output = []\n",
    "for factor in list_of_factors:\n",
    "    pbt = fc.get_pb_success_from_interval_modifier(factor / 2.5, dif)\n",
    "    l = ws.sim(pbt, nsims=100, onfail=\"stable\", ndays=1,\n",
    "            difficulty=dif, factor=factor)\n",
    "    quotient = l[0] / l[1]\n",
    "    row = ws.SimulationResult(pbt, l[0], l[1], quotient, factor)\n",
    "    total_output.append(row)\n",
    "analysis(total_output)\n",
    "compare_best_to_sm2(total_output)"
   ]
  },
  {
   "cell_type": "markdown",
   "metadata": {},
   "source": [
    "##  95% success rate"
   ]
  },
  {
   "cell_type": "code",
   "execution_count": null,
   "metadata": {},
   "outputs": [],
   "source": [
    "list_of_factors = [i / 120 for i in range(3 * 60, 10 * 300) if (i % 30 == 0) or (i % 40 == 0) or (i % 12 == 0)]\n",
    "focus_output = []\n",
    "focus_output_too_high = []\n",
    "focus_output_too_low = []\n",
    "dif = 0.95\n",
    "total_output = []\n",
    "for factor in list_of_factors:\n",
    "    pbt = fc.get_pb_success_from_interval_modifier(factor / 2.5, dif)\n",
    "    l = ws.sim(pbt, nsims=100, onfail=\"stable\", ndays=1,\n",
    "            difficulty=dif, factor=factor)\n",
    "    quotient = l[0] / l[1]\n",
    "    row = ws.SimulationResult(pbt, l[0], l[1], quotient, factor)\n",
    "    total_output.append(row)\n",
    "analysis(total_output)\n",
    "compare_best_to_sm2(total_output)"
   ]
  }
 ],
 "metadata": {
  "kernelspec": {
   "display_name": "Python 3",
   "language": "python",
   "name": "python3"
  },
  "language_info": {
   "codemirror_mode": {
    "name": "ipython",
    "version": 3
   },
   "file_extension": ".py",
   "mimetype": "text/x-python",
   "name": "python",
   "nbconvert_exporter": "python",
   "pygments_lexer": "ipython3",
   "version": "3.6.7"
  }
 },
 "nbformat": 4,
 "nbformat_minor": 2
}
