{
 "cells": [
  {
   "cell_type": "code",
   "execution_count": 3,
   "metadata": {},
   "outputs": [],
   "source": [
    "import workload_simulation\n",
    "import forgetting_curve as fc\n",
    "import matplotlib\n",
    "import importlib\n",
    "import numpy"
   ]
  },
  {
   "cell_type": "code",
   "execution_count": 88,
   "metadata": {},
   "outputs": [],
   "source": [
    "importlib.reload(workload_simulation)\n",
    "import workload_simulation as ws"
   ]
  },
  {
   "cell_type": "code",
   "execution_count": 5,
   "metadata": {},
   "outputs": [],
   "source": [
    "import matplotlib.pyplot as plt\n",
    "import numpy as np\n",
    "%matplotlib inline"
   ]
  },
  {
   "cell_type": "code",
   "execution_count": 40,
   "metadata": {},
   "outputs": [],
   "source": [
    "vals_to_print = []\n",
    "total_output = []\n",
    "# trick to get this kind of factor 1.0, 1.1, 1.2, 1.25, 1.3, 1.3333333333333333\n",
    "# Why ? These factors produce sensible enough different simulations because intervals are integers \n",
    "# Intervals get rounded if they become float, so for the sake of the simulation, let's pick factors that\n",
    "# would result in neat intervals\n",
    "\n",
    "# How ? : take floats that would be close to integers when multiplied by common integers\n",
    "list_of_factors = [i / 120 for i in range(3 * 60, 10 * 300) if (i % 30 == 0) or (i % 40 == 0) or (i % 12 == 0)]\n",
    "focus_output = []\n",
    "focus_output_too_high = []\n",
    "focus_output_too_low = []\n",
    "dif = 0.73\n",
    "for factor in list_of_factors:\n",
    "    pbt = fc.get_pb_success_from_interval_modifier(factor / 2.5, dif)\n",
    "    l = ws.sim(pbt, nsims=4000, onfail=\"reset\", ndays=1,\n",
    "            difficulty=dif, factor=factor)\n",
    "    quotient = l[0] / l[1]\n",
    "    row = ws.SimulationResult(pbt, l[0], l[1], quotient, factor)\n",
    "    total_output.append(row)"
   ]
  },
  {
   "cell_type": "code",
   "execution_count": 98,
   "metadata": {},
   "outputs": [],
   "source": [
    "def analysis(total_output):\n",
    "    factors = [output.factor for output in total_output]\n",
    "    r_rates = [output.r_rate for output in total_output]\n",
    "    w_loads = [output.w_load for output in total_output]\n",
    "    effs = [output.efficiency for output in total_output]\n",
    "    plt.scatter(factors, r_rates,  color='blue')\n",
    "    t = np.polyfit(factors,r_rates,1)\n",
    "    new_rates = [t[0]*f + t[1] for f in factors]\n",
    "    plt.plot(factors,new_rates, color=\"red\")\n",
    "    plt.xlabel(\"Factors\")\n",
    "    plt.ylabel(\"Retention rate\")\n",
    "    plt.show()\n",
    "    plt.scatter(factors, w_loads,  color='red')\n",
    "    plt.xlabel(\"Factors\")\n",
    "    plt.ylabel(\"workload\")\n",
    "    plt.show()\n",
    "    plt.scatter(factors, effs,  color='green')\n",
    "    t = np.polyfit(factors,effs, 3)\n",
    "    new_effs = [t[0]*f*f*f + t[1]*f*f + t[2]*f + t[3] for f in factors]\n",
    "    plt.plot(factors,new_effs, color=\"blue\")\n",
    "    plt.xlabel(\"Factors\")\n",
    "    plt.ylabel(\"efficiency\")\n",
    "    plt.show()\n",
    "    from operator import itemgetter\n",
    "    print(\"outputs : recall proba, real retention rate, workload, retention/workload\")\n",
    "    best_productivity = max(total_output, key=itemgetter(3))\n",
    "    print(\"best_productivity\")\n",
    "    print(best_productivity)\n",
    "    print(\"factor used\")\n",
    "    print(best_productivity.factor)\n",
    "\n",
    "    least_work = min(total_output, key=itemgetter(2))\n",
    "    print(\"least work\")\n",
    "    print(least_work)\n",
    "    print(\"factor used\")\n",
    "    print(least_work[4])\n",
    "#analysis(total_output)"
   ]
  },
  {
   "cell_type": "code",
   "execution_count": 42,
   "metadata": {},
   "outputs": [
    {
     "name": "stdout",
     "output_type": "stream",
     "text": [
      "outputs : recall proba, real retention rate, workload, retention/workload\n",
      "best_productivity\n",
      "SimulationResult(pbt=0.6356015074863469, r_rate=0.8548000179683999, w_load=12.64325, efficiency=0.06760920000540999, factor=3.6)\n",
      "factor used\n",
      "3.6\n",
      "least work\n",
      "SimulationResult(pbt=0.5675199700606903, r_rate=0.8308710754635947, w_load=12.32225, efficiency=0.06742851958559473, factor=4.5)\n",
      "factor used\n",
      "4.5\n"
     ]
    }
   ],
   "source": []
  },
  {
   "cell_type": "code",
   "execution_count": 43,
   "metadata": {},
   "outputs": [],
   "source": [
    "t1 = numpy.polyfit(factors, r_rates, 1)\n",
    "t2 = numpy.polyfit(factors, w_loads, 3)"
   ]
  },
  {
   "cell_type": "code",
   "execution_count": 101,
   "metadata": {},
   "outputs": [],
   "source": [
    "import csv\n",
    "results = []\n",
    "with open(\"./simunight2.txt\",\"r\") as fmulti:\n",
    "    fmulticsv = csv.reader(fmulti, delimiter=\" \")\n",
    "    for row in fmulticsv:\n",
    "        res = ws.SimulationResult(*row[1:])._asdict()\n",
    "        res[\"pbt\"] = row[0]\n",
    "        results.append(res)"
   ]
  },
  {
   "cell_type": "code",
   "execution_count": 102,
   "metadata": {},
   "outputs": [
    {
     "data": {
      "text/plain": [
       "[OrderedDict([('pbt', '70.0'),\n",
       "              ('r_rate', '0.8179584310597515'),\n",
       "              ('w_load', '18.9886'),\n",
       "              ('efficiency', '0.04307628951369514'),\n",
       "              ('factor', '3.8')]),\n",
       " OrderedDict([('pbt', '70.5'),\n",
       "              ('r_rate', '0.8308914836076625'),\n",
       "              ('w_load', '18.7141'),\n",
       "              ('efficiency', '0.04439922216978976'),\n",
       "              ('factor', '3.5')]),\n",
       " OrderedDict([('pbt', '71.0'),\n",
       "              ('r_rate', '0.8282913885594954'),\n",
       "              ('w_load', '18.1565'),\n",
       "              ('efficiency', '0.045619551596370184'),\n",
       "              ('factor', '3.6666666666666665')]),\n",
       " OrderedDict([('pbt', '71.5'),\n",
       "              ('r_rate', '0.8367669930411895'),\n",
       "              ('w_load', '17.6852'),\n",
       "              ('efficiency', '0.0473145337932955'),\n",
       "              ('factor', '3.5')]),\n",
       " OrderedDict([('pbt', '72.0'),\n",
       "              ('r_rate', '0.834714555212902'),\n",
       "              ('w_load', '17.1227'),\n",
       "              ('efficiency', '0.04874900309021954'),\n",
       "              ('factor', '3.6666666666666665')]),\n",
       " OrderedDict([('pbt', '72.5'),\n",
       "              ('r_rate', '0.8381984606894725'),\n",
       "              ('w_load', '16.8607'),\n",
       "              ('efficiency', '0.04971314718187693'),\n",
       "              ('factor', '3.7')]),\n",
       " OrderedDict([('pbt', '73.0'),\n",
       "              ('r_rate', '0.84048337264172'),\n",
       "              ('w_load', '16.4167'),\n",
       "              ('efficiency', '0.05119685275613979'),\n",
       "              ('factor', '3.75')]),\n",
       " OrderedDict([('pbt', '73.5'),\n",
       "              ('r_rate', '0.8501678087011761'),\n",
       "              ('w_load', '16.0528'),\n",
       "              ('efficiency', '0.05296071767549437'),\n",
       "              ('factor', '3.5')]),\n",
       " OrderedDict([('pbt', '74.0'),\n",
       "              ('r_rate', '0.8472635732329283'),\n",
       "              ('w_load', '15.5744'),\n",
       "              ('efficiency', '0.054401041018140556'),\n",
       "              ('factor', '3.75')]),\n",
       " OrderedDict([('pbt', '74.5'),\n",
       "              ('r_rate', '0.855904070981872'),\n",
       "              ('w_load', '15.1921'),\n",
       "              ('efficiency', '0.05633875968311636'),\n",
       "              ('factor', '3.6')]),\n",
       " OrderedDict([('pbt', '75.0'),\n",
       "              ('r_rate', '0.8538913430983482'),\n",
       "              ('w_load', '14.8629'),\n",
       "              ('efficiency', '0.057451193448004645'),\n",
       "              ('factor', '3.8')]),\n",
       " OrderedDict([('pbt', '75.5'),\n",
       "              ('r_rate', '0.8584794373585602'),\n",
       "              ('w_load', '14.5082'),\n",
       "              ('efficiency', '0.05917201564346785'),\n",
       "              ('factor', '3.6666666666666665')]),\n",
       " OrderedDict([('pbt', '76.0'),\n",
       "              ('r_rate', '0.8606209911535967'),\n",
       "              ('w_load', '14.073'),\n",
       "              ('efficiency', '0.06115405323339705'),\n",
       "              ('factor', '3.75')]),\n",
       " OrderedDict([('pbt', '76.5'),\n",
       "              ('r_rate', '0.8557342964832932'),\n",
       "              ('w_load', '13.5382'),\n",
       "              ('efficiency', '0.06320886797973832'),\n",
       "              ('factor', '4.1')]),\n",
       " OrderedDict([('pbt', '77.0'),\n",
       "              ('r_rate', '0.8560551674839415'),\n",
       "              ('w_load', '13.2364'),\n",
       "              ('efficiency', '0.06467431986672671'),\n",
       "              ('factor', '4.2')]),\n",
       " OrderedDict([('pbt', '77.5'),\n",
       "              ('r_rate', '0.8713780115232774'),\n",
       "              ('w_load', '13.0623'),\n",
       "              ('efficiency', '0.0667093859062552'),\n",
       "              ('factor', '3.7')]),\n",
       " OrderedDict([('pbt', '78.0'),\n",
       "              ('r_rate', '0.8791651097938904'),\n",
       "              ('w_load', '12.6758'),\n",
       "              ('efficiency', '0.06935776122957844'),\n",
       "              ('factor', '3.6')]),\n",
       " OrderedDict([('pbt', '78.5'),\n",
       "              ('r_rate', '0.8731127583445163'),\n",
       "              ('w_load', '12.3479'),\n",
       "              ('efficiency', '0.07070941280254264'),\n",
       "              ('factor', '3.9')]),\n",
       " OrderedDict([('pbt', '79.0'),\n",
       "              ('r_rate', '0.8763033678761826'),\n",
       "              ('w_load', '12.0594'),\n",
       "              ('efficiency', '0.07266558600562073'),\n",
       "              ('factor', '3.9')]),\n",
       " OrderedDict([('pbt', '79.5'),\n",
       "              ('r_rate', '0.8842357671254646'),\n",
       "              ('w_load', '11.807'),\n",
       "              ('efficiency', '0.07489080775179678'),\n",
       "              ('factor', '3.75')]),\n",
       " OrderedDict([('pbt', '80.0'),\n",
       "              ('r_rate', '0.8816255464669657'),\n",
       "              ('w_load', '11.2177'),\n",
       "              ('efficiency', '0.07859236264715277'),\n",
       "              ('factor', '4.0')]),\n",
       " OrderedDict([('pbt', '80.5'),\n",
       "              ('r_rate', '0.8900587547859355'),\n",
       "              ('w_load', '11.1514'),\n",
       "              ('efficiency', '0.07981587556593213'),\n",
       "              ('factor', '3.8')]),\n",
       " OrderedDict([('pbt', '81.0'),\n",
       "              ('r_rate', '0.8936240913567403'),\n",
       "              ('w_load', '10.7918'),\n",
       "              ('efficiency', '0.08280584252457794'),\n",
       "              ('factor', '3.8')]),\n",
       " OrderedDict([('pbt', '81.5'),\n",
       "              ('r_rate', '0.8919422005187752'),\n",
       "              ('w_load', '10.5424'),\n",
       "              ('efficiency', '0.08460523225439891'),\n",
       "              ('factor', '4.0')]),\n",
       " OrderedDict([('pbt', '82.0'),\n",
       "              ('r_rate', '0.8800626004731861'),\n",
       "              ('w_load', '10.0669'),\n",
       "              ('efficiency', '0.08742141080900635'),\n",
       "              ('factor', '4.666666666666667')]),\n",
       " OrderedDict([('pbt', '82.5'),\n",
       "              ('r_rate', '0.8934182744842863'),\n",
       "              ('w_load', '9.9355'),\n",
       "              ('efficiency', '0.08992182320812102'),\n",
       "              ('factor', '4.3')]),\n",
       " OrderedDict([('pbt', '83.0'),\n",
       "              ('r_rate', '0.8771813266367955'),\n",
       "              ('w_load', '9.5199'),\n",
       "              ('efficiency', '0.09214186353184335'),\n",
       "              ('factor', '5.3')]),\n",
       " OrderedDict([('pbt', '83.5'),\n",
       "              ('r_rate', '0.8919076011071931'),\n",
       "              ('w_load', '9.3177'),\n",
       "              ('efficiency', '0.0957218628102636'),\n",
       "              ('factor', '4.6')]),\n",
       " OrderedDict([('pbt', '84.0'),\n",
       "              ('r_rate', '0.885770408944315'),\n",
       "              ('w_load', '8.9883'),\n",
       "              ('efficiency', '0.09854704548627827'),\n",
       "              ('factor', '5.25')]),\n",
       " OrderedDict([('pbt', '84.5'),\n",
       "              ('r_rate', '0.8997993410183157'),\n",
       "              ('w_load', '8.8858'),\n",
       "              ('efficiency', '0.10126261462314207'),\n",
       "              ('factor', '4.6')]),\n",
       " OrderedDict([('pbt', '85.0'),\n",
       "              ('r_rate', '0.8953432980572071'),\n",
       "              ('w_load', '8.483'),\n",
       "              ('efficiency', '0.10554559684748403'),\n",
       "              ('factor', '5.25')]),\n",
       " OrderedDict([('pbt', '85.5'),\n",
       "              ('r_rate', '0.8996932197166019'),\n",
       "              ('w_load', '8.285'),\n",
       "              ('efficiency', '0.1085930259163068'),\n",
       "              ('factor', '5.1')]),\n",
       " OrderedDict([('pbt', '86.0'),\n",
       "              ('r_rate', '0.907613684466895'),\n",
       "              ('w_load', '8.1288'),\n",
       "              ('efficiency', '0.11165407987241599'),\n",
       "              ('factor', '4.9')]),\n",
       " OrderedDict([('pbt', '86.5'),\n",
       "              ('r_rate', '0.8986172062126305'),\n",
       "              ('w_load', '7.7403'),\n",
       "              ('efficiency', '0.11609591439771462'),\n",
       "              ('factor', '5.666666666666667')]),\n",
       " OrderedDict([('pbt', '87.0'),\n",
       "              ('r_rate', '0.9169126568973732'),\n",
       "              ('w_load', '7.6184'),\n",
       "              ('efficiency', '0.12035501639417373'),\n",
       "              ('factor', '4.75')]),\n",
       " OrderedDict([('pbt', '87.5'),\n",
       "              ('r_rate', '0.9050194449848877'),\n",
       "              ('w_load', '7.3852'),\n",
       "              ('efficiency', '0.12254501502801382'),\n",
       "              ('factor', '5.8')]),\n",
       " OrderedDict([('pbt', '88.0'),\n",
       "              ('r_rate', '0.9119342474271529'),\n",
       "              ('w_load', '7.1718'),\n",
       "              ('efficiency', '0.1271555603094276'),\n",
       "              ('factor', '5.6')]),\n",
       " OrderedDict([('pbt', '88.5'),\n",
       "              ('r_rate', '0.9125226606528851'),\n",
       "              ('w_load', '6.9439'),\n",
       "              ('efficiency', '0.13141356595758652'),\n",
       "              ('factor', '6.0')]),\n",
       " OrderedDict([('pbt', '89.0'),\n",
       "              ('r_rate', '0.9267842925908971'),\n",
       "              ('w_load', '6.7543'),\n",
       "              ('efficiency', '0.13721396630160004'),\n",
       "              ('factor', '5.3')]),\n",
       " OrderedDict([('pbt', '89.5'),\n",
       "              ('r_rate', '0.9209989375782074'),\n",
       "              ('w_load', '6.5118'),\n",
       "              ('efficiency', '0.14143538462148827'),\n",
       "              ('factor', '6.0')]),\n",
       " OrderedDict([('pbt', '90.0'),\n",
       "              ('r_rate', '0.9173004242737944'),\n",
       "              ('w_load', '6.2379'),\n",
       "              ('efficiency', '0.14705276203109932'),\n",
       "              ('factor', '6.7')]),\n",
       " OrderedDict([('pbt', '90.5'),\n",
       "              ('r_rate', '0.919832354214506'),\n",
       "              ('w_load', '6.0836'),\n",
       "              ('efficiency', '0.151198690613207'),\n",
       "              ('factor', '6.9')]),\n",
       " OrderedDict([('pbt', '91.0'),\n",
       "              ('r_rate', '0.9141518324825338'),\n",
       "              ('w_load', '5.7768'),\n",
       "              ('efficiency', '0.15824536637628686'),\n",
       "              ('factor', '7.9')]),\n",
       " OrderedDict([('pbt', '91.5'),\n",
       "              ('r_rate', '0.9174191495755253'),\n",
       "              ('w_load', '5.5946'),\n",
       "              ('efficiency', '0.16398297457825856'),\n",
       "              ('factor', '8.3')]),\n",
       " OrderedDict([('pbt', '92.0'),\n",
       "              ('r_rate', '0.9175817950659643'),\n",
       "              ('w_load', '5.4041'),\n",
       "              ('efficiency', '0.16979363725059943'),\n",
       "              ('factor', '8.9')]),\n",
       " OrderedDict([('pbt', '92.5'),\n",
       "              ('r_rate', '0.933372751684315'),\n",
       "              ('w_load', '5.2866'),\n",
       "              ('efficiency', '0.17655444930282507'),\n",
       "              ('factor', '7.666666666666667')]),\n",
       " OrderedDict([('pbt', '93.0'),\n",
       "              ('r_rate', '0.9286069223826776'),\n",
       "              ('w_load', '5.0489'),\n",
       "              ('efficiency', '0.1839226212408005'),\n",
       "              ('factor', '9.25')]),\n",
       " OrderedDict([('pbt', '93.5'),\n",
       "              ('r_rate', '0.9313744461941642'),\n",
       "              ('w_load', '4.8264'),\n",
       "              ('efficiency', '0.19297498056401546'),\n",
       "              ('factor', '9.7')]),\n",
       " OrderedDict([('pbt', '94.0'),\n",
       "              ('r_rate', '0.9385037319012266'),\n",
       "              ('w_load', '4.6095'),\n",
       "              ('efficiency', '0.2036020678818151'),\n",
       "              ('factor', '9.5')]),\n",
       " OrderedDict([('pbt', '94.5'),\n",
       "              ('r_rate', '0.9465866994692682'),\n",
       "              ('w_load', '4.471'),\n",
       "              ('efficiency', '0.21171699831564933'),\n",
       "              ('factor', '9.2')]),\n",
       " OrderedDict([('pbt', '95.0'),\n",
       "              ('r_rate', '0.9457344731162388'),\n",
       "              ('w_load', '4.259'),\n",
       "              ('efficiency', '0.22205552315478722'),\n",
       "              ('factor', '10.9')]),\n",
       " OrderedDict([('pbt', '95.5'),\n",
       "              ('r_rate', '0.9546701084180389'),\n",
       "              ('w_load', '4.1382'),\n",
       "              ('efficiency', '0.23069694756610093'),\n",
       "              ('factor', '10.4')]),\n",
       " OrderedDict([('pbt', '96.0'),\n",
       "              ('r_rate', '0.9553302285083497'),\n",
       "              ('w_load', '3.9368'),\n",
       "              ('efficiency', '0.2426666908423973'),\n",
       "              ('factor', '11.75')]),\n",
       " OrderedDict([('pbt', '96.5'),\n",
       "              ('r_rate', '0.9623526265629762'),\n",
       "              ('w_load', '3.7963'),\n",
       "              ('efficiency', '0.2534975177312057'),\n",
       "              ('factor', '11.7')]),\n",
       " OrderedDict([('pbt', '97.0'),\n",
       "              ('r_rate', '0.9551541369334929'),\n",
       "              ('w_load', '3.5594'),\n",
       "              ('efficiency', '0.2683469508719146'),\n",
       "              ('factor', '16.25')]),\n",
       " OrderedDict([('pbt', '97.5'),\n",
       "              ('r_rate', '0.9644693660629642'),\n",
       "              ('w_load', '3.3854'),\n",
       "              ('efficiency', '0.2848908152841508'),\n",
       "              ('factor', '16.3')]),\n",
       " OrderedDict([('pbt', '98.0'),\n",
       "              ('r_rate', '0.9745836197670221'),\n",
       "              ('w_load', '3.2058'),\n",
       "              ('efficiency', '0.304006369632236'),\n",
       "              ('factor', '16.333333333333332')]),\n",
       " OrderedDict([('pbt', '98.5'),\n",
       "              ('r_rate', '0.9848100134426135'),\n",
       "              ('w_load', '3.0282'),\n",
       "              ('efficiency', '0.3252130022596307'),\n",
       "              ('factor', '16.1')])]"
      ]
     },
     "execution_count": 102,
     "metadata": {},
     "output_type": "execute_result"
    }
   ],
   "source": [
    "results"
   ]
  },
  {
   "cell_type": "code",
   "execution_count": 103,
   "metadata": {},
   "outputs": [
    {
     "data": {
      "image/png": "[encoded data removed]",
      "text/plain": [
       "<Figure size 432x288 with 1 Axes>"
      ]
     },
     "metadata": {
      "needs_background": "light"
     },
     "output_type": "display_data"
    }
   ],
   "source": [
    "factors = [float(output[\"factor\"]) for output in results]\n",
    "pbt = [float(output[\"pbt\"]) for output in results]\n",
    "plt.scatter(pbt, factors, color=\"blue\")\n",
    "t = np.polyfit(np.asarray(pbt, dtype=float),np.asarray(factors, dtype=float),2)\n",
    "new_factors = [t[0]*p*p + t[1]*p + t[2] for p in pbt]\n",
    "plt.plot(pbt,new_factors, color=\"red\")\n",
    "plt.ylabel(\"Optimal Factors\")\n",
    "plt.xlabel(\"Difficulty\")\n",
    "plt.show()"
   ]
  },
  {
   "cell_type": "code",
   "execution_count": 96,
   "metadata": {},
   "outputs": [],
   "source": [
    "import pickle\n",
    "SimulationResult = ws.SimulationResult\n",
    "v = ws.get_simdata(\"./simunight/71.5.pkl\")"
   ]
  },
  {
   "cell_type": "code",
   "execution_count": 99,
   "metadata": {},
   "outputs": [
    {
     "data": {
      "image/png": "[encoded data removed]",
      "text/plain": [
       "<Figure size 432x288 with 1 Axes>"
      ]
     },
     "metadata": {
      "needs_background": "light"
     },
     "output_type": "display_data"
    },
    {
     "data": {
      "image/png": "[encoded data removed]",
      "text/plain": [
       "<Figure size 432x288 with 1 Axes>"
      ]
     },
     "metadata": {
      "needs_background": "light"
     },
     "output_type": "display_data"
    },
    {
     "data": {
      "image/png": "[encoded data removed]",
      "text/plain": [
       "<Figure size 432x288 with 1 Axes>"
      ]
     },
     "metadata": {
      "needs_background": "light"
     },
     "output_type": "display_data"
    },
    {
     "name": "stdout",
     "output_type": "stream",
     "text": [
      "outputs : recall proba, real retention rate, workload, retention/workload\n",
      "best_productivity\n",
      "SimulationResult(pbt=0.6252136605388111, r_rate=0.8367669930411895, w_load=17.6852, efficiency=0.0473145337932955, factor=3.5)\n",
      "factor used\n",
      "3.5\n",
      "least work\n",
      "SimulationResult(pbt=0.6252136605388111, r_rate=0.8367669930411895, w_load=17.6852, efficiency=0.0473145337932955, factor=3.5)\n",
      "factor used\n",
      "3.5\n"
     ]
    }
   ],
   "source": [
    "analysis(v)"
   ]
  },
  {
   "cell_type": "code",
   "execution_count": 104,
   "metadata": {},
   "outputs": [],
   "source": [
    "def get_SM2_Point(results):\n",
    "    for r in results:\n",
    "        if r.factor == 2.5:\n",
    "            return r"
   ]
  },
  {
   "cell_type": "code",
   "execution_count": 114,
   "metadata": {},
   "outputs": [],
   "source": [
    "s = get_SM2_Point(v)"
   ]
  },
  {
   "cell_type": "code",
   "execution_count": 136,
   "metadata": {},
   "outputs": [],
   "source": [
    "def compare(source, target):\n",
    "    return SimulationResult(source.pbt - target.pbt, source.r_rate - target.r_rate, \n",
    "                            source.w_load/target.w_load, source.efficiency/target.efficiency, source.factor/target.factor)"
   ]
  },
  {
   "cell_type": "code",
   "execution_count": 137,
   "metadata": {},
   "outputs": [],
   "source": [
    "from operator import itemgetter\n",
    "def get_best_prod(results):\n",
    "    return max(results, key=itemgetter(3))"
   ]
  },
  {
   "cell_type": "code",
   "execution_count": 138,
   "metadata": {},
   "outputs": [],
   "source": [
    "o = get_best_prod(v)"
   ]
  },
  {
   "cell_type": "code",
   "execution_count": 139,
   "metadata": {},
   "outputs": [
    {
     "data": {
      "text/plain": [
       "SimulationResult(pbt=-0.08978633946118886, r_rate=-0.0446441816470472, w_load=0.8241582589649789, efficiency=1.151901578468814, factor=1.4)"
      ]
     },
     "execution_count": 139,
     "metadata": {},
     "output_type": "execute_result"
    }
   ],
   "source": [
    "compare (o, s)"
   ]
  },
  {
   "cell_type": "code",
   "execution_count": 140,
   "metadata": {},
   "outputs": [],
   "source": [
    "def compare_best_to_sm2(results):\n",
    "    o = get_best_prod(results)\n",
    "    s = get_SM2_Point(results)\n",
    "    return compare (o, s)"
   ]
  },
  {
   "cell_type": "code",
   "execution_count": 141,
   "metadata": {},
   "outputs": [
    {
     "data": {
      "text/plain": [
       "SimulationResult(pbt=-0.1460024663215167, r_rate=-0.052517997094685964, w_load=0.660248946844768, efficiency=1.4325620698738504, factor=2.68)"
      ]
     },
     "execution_count": 141,
     "metadata": {},
     "output_type": "execute_result"
    }
   ],
   "source": [
    "compare_best_to_sm2(ws.get_simdata(\"./simunight/90.0.pkl\"))\n"
   ]
  },
  {
   "cell_type": "code",
   "execution_count": 142,
   "metadata": {},
   "outputs": [
    {
     "data": {
      "text/plain": [
       "SimulationResult(pbt=-0.15039607169454372, r_rate=-0.046150636263926126, w_load=0.5614289480622199, efficiency=1.6982946741733813, factor=4.36)"
      ]
     },
     "execution_count": 142,
     "metadata": {},
     "output_type": "execute_result"
    }
   ],
   "source": [
    "compare_best_to_sm2(ws.get_simdata(\"./simunight/95.0.pkl\"))"
   ]
  },
  {
   "cell_type": "code",
   "execution_count": null,
   "metadata": {},
   "outputs": [],
   "source": []
  }
 ],
 "metadata": {
  "kernelspec": {
   "display_name": "Python 3",
   "language": "python",
   "name": "python3"
  },
  "language_info": {
   "codemirror_mode": {
    "name": "ipython",
    "version": 3
   },
   "file_extension": ".py",
   "mimetype": "text/x-python",
   "name": "python",
   "nbconvert_exporter": "python",
   "pygments_lexer": "ipython3",
   "version": "3.6.7"
  }
 },
 "nbformat": 4,
 "nbformat_minor": 2
}
